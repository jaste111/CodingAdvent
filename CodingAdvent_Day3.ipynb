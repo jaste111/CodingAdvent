{
 "cells": [
  {
   "cell_type": "markdown",
   "metadata": {},
   "source": [
    "Coding Advent Day 3"
   ]
  },
  {
   "cell_type": "code",
   "execution_count": 186,
   "metadata": {},
   "outputs": [
    {
     "name": "stdout",
     "output_type": "stream",
     "text": [
      "There are 112378 square inches within two or more claims\n"
     ]
    }
   ],
   "source": [
    "#Day 3 Part 1\n",
    "\n",
    "import numpy as np\n",
    "def readInput(filename):\n",
    "    f = open(filename, 'r')\n",
    "    Input = []\n",
    "    for line in f:\n",
    "        Input.append(line)\n",
    "    f.close\n",
    "    return Input\n",
    "\n",
    "Input = readInput('input_Day3.txt')\n",
    "\n",
    "field = np.zeros((1000,1000))\n",
    "\n",
    "IDs = []\n",
    "pos = []\n",
    "size = []\n",
    "\n",
    "\n",
    "for s in Input:\n",
    "    tmp = s.split()\n",
    "    currentIDs = tmp[0].split(\"#\")[1]\n",
    "    IDs.append(int(currentIDs))\n",
    "    currentPos = tmp[2].split(\",\")\n",
    "    currentPos[1] = currentPos[1].split(\":\")[0]\n",
    "    pos.append(currentPos)\n",
    "    currenSize = tmp[3].split(\"x\")\n",
    "    size.append(currenSize)  \n",
    "    \n",
    "for l in IDs:\n",
    "    startY = int(pos[l-1][0])\n",
    "    startX = int(pos[l-1][1])\n",
    "    lengthY = int(size[l-1][0])\n",
    "    lengthX = int(size[l-1][1])\n",
    "\n",
    "    for i in range(startY, startY+lengthY):\n",
    "        for j in range(startX, startX+lengthX):  \n",
    "            if(field[j][i] == 0):\n",
    "                field[j][i] = l\n",
    "            else:\n",
    "                field[j][i] = \"-1\"\n",
    "    \n",
    "count = 0\n",
    "for i in range(1000):\n",
    "    for j in range(1000):\n",
    "        if(field[i][j] == -1):\n",
    "            count = count + 1\n",
    "print(\"There are {} square inches within two or more claims\".format(count))"
   ]
  },
  {
   "cell_type": "code",
   "execution_count": 187,
   "metadata": {},
   "outputs": [
    {
     "name": "stdout",
     "output_type": "stream",
     "text": [
      "ID 603 claims doesn't overlapt\n"
     ]
    }
   ],
   "source": [
    "#Day 3 part 2\n",
    "\n",
    "for l in IDs:\n",
    "    correctIDFound = True\n",
    "    startY = int(pos[l-1][0])\n",
    "    startX = int(pos[l-1][1])\n",
    "    lengthY = int(size[l-1][0])\n",
    "    lengthX = int(size[l-1][1])\n",
    "\n",
    "    for i in range(startY, startY+lengthY):\n",
    "        for j in range(startX, startX+lengthX):  \n",
    "            if(field[j][i] != l):\n",
    "                correctIDFound = False\n",
    "                     \n",
    "    if(correctIDFound):\n",
    "        print(\"ID {} claims doesn't overlapt\".format(l))\n",
    "        break"
   ]
  },
  {
   "cell_type": "code",
   "execution_count": null,
   "metadata": {},
   "outputs": [],
   "source": []
  }
 ],
 "metadata": {
  "kernelspec": {
   "display_name": "Python 3",
   "language": "python",
   "name": "python3"
  },
  "language_info": {
   "codemirror_mode": {
    "name": "ipython",
    "version": 3
   },
   "file_extension": ".py",
   "mimetype": "text/x-python",
   "name": "python",
   "nbconvert_exporter": "python",
   "pygments_lexer": "ipython3",
   "version": "3.6.7"
  }
 },
 "nbformat": 4,
 "nbformat_minor": 2
}
