{
 "cells": [
  {
   "cell_type": "markdown",
   "metadata": {},
   "source": [
    "Coding Advent"
   ]
  },
  {
   "cell_type": "code",
   "execution_count": 5,
   "metadata": {},
   "outputs": [
    {
     "name": "stdout",
     "output_type": "stream",
     "text": [
      "510\n"
     ]
    }
   ],
   "source": [
    "#Day 1 Part 1\n",
    "def readInput(filename):\n",
    "    f = open(filename, 'r')\n",
    "    Input = []\n",
    "    for line in f:\n",
    "        Input.append(line)\n",
    "    f.close\n",
    "    return Input\n",
    "\n",
    "Input = readInput('input_Day1.txt')\n",
    "\n",
    "freq = 0\n",
    "for i in range(len(Input) - 1):\n",
    "    freq = freq + int(Input[i])\n",
    "    \n",
    "print(freq)"
   ]
  },
  {
   "cell_type": "code",
   "execution_count": 18,
   "metadata": {},
   "outputs": [
    {
     "name": "stdout",
     "output_type": "stream",
     "text": [
      "69360\n"
     ]
    }
   ],
   "source": [
    "#Day 1 Part 2\n",
    "freqSet = set()\n",
    "duplicateFreq = 0\n",
    "freqSum = 0\n",
    "notFound = True\n",
    "\n",
    "while(notFound):\n",
    "    for i in range(len(Input) - 1):\n",
    "        freqSum = freqSum + int(Input[i])\n",
    "        \n",
    "        if(freqSum in freqSet):\n",
    "            duplicateFreq = freqSum\n",
    "            notFound = False\n",
    "\n",
    "        freqSet.add(freqSum)\n",
    "\n",
    "print(duplicateFreq)"
   ]
  },
  {
   "cell_type": "code",
   "execution_count": null,
   "metadata": {},
   "outputs": [],
   "source": []
  }
 ],
 "metadata": {
  "kernelspec": {
   "display_name": "Python 2",
   "language": "python",
   "name": "python2"
  },
  "language_info": {
   "codemirror_mode": {
    "name": "ipython",
    "version": 2
   },
   "file_extension": ".py",
   "mimetype": "text/x-python",
   "name": "python",
   "nbconvert_exporter": "python",
   "pygments_lexer": "ipython2",
   "version": "2.7.15rc1"
  }
 },
 "nbformat": 4,
 "nbformat_minor": 2
}
