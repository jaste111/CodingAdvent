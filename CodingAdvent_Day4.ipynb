{
 "cells": [
  {
   "cell_type": "markdown",
   "metadata": {},
   "source": [
    "Coding Advent"
   ]
  },
  {
   "cell_type": "code",
   "execution_count": 109,
   "metadata": {},
   "outputs": [
    {
     "name": "stdout",
     "output_type": "stream",
     "text": [
      "2411\n",
      "The id of the guard multiplied by the minute to choose is 101262\n"
     ]
    }
   ],
   "source": [
    "#Day 4 Part 1\n",
    "from operator import itemgetter\n",
    "import numpy as np\n",
    "def readInput(filename):\n",
    "    f = open(filename, 'r')\n",
    "    Input = []\n",
    "    for line in f:\n",
    "        Input.append(line)\n",
    "    f.close\n",
    "    return Input\n",
    "\n",
    "Input = readInput('input_Day4.txt')\n",
    "\n",
    "#sort input\n",
    "def sortFunc(e):\n",
    "    tmp = (e.split(\"]\"))[0].split(\"[\")\n",
    "    return tmp[1]\n",
    "\n",
    "sortFunc(Input[0])\n",
    "Input.sort(key=sortFunc)\n",
    "#Input = sorted(Input)\n",
    "\n",
    "#Find guard most asleep\n",
    "guardsShift = []\n",
    "guards = []\n",
    "sleep = 0\n",
    "awake = 0\n",
    "\n",
    "for s in Input:\n",
    "    if(s.split(\" \")[2] == \"Guard\"):\n",
    "        Id = int((s.split(\" \"))[3].split(\"#\")[1])\n",
    "        fallsAsleep = s.split(\" \")[2]\n",
    "        \n",
    "    if(s.split(\" \")[2] == \"falls\"):\n",
    "        sleep = int(s.split(\" \")[1].split(\":\")[1].split(\"]\")[0])\n",
    "    \n",
    "    if(s.split(\" \")[2] == \"wakes\"):\n",
    "        awake = int(s.split(\" \")[1].split(\":\")[1].split(\"]\")[0])\n",
    "        guardsShift.append([Id, awake - sleep, sleep, awake])\n",
    "\n",
    "\n",
    "guardIds = list(set([num[0] for num in guardsShift]))\n",
    "for i in guardIds:\n",
    "    guards.append([i,sum(([item[1] for item in guardsShift if item[0] == i]))])\n",
    "\n",
    "guardId = max(guards,key=itemgetter(1))[0]\n",
    "print(guardId)\n",
    "\n",
    "#Find time guard most likely asleep\n",
    "timesAsleep = []\n",
    "i = 0\n",
    "tmp = []\n",
    "for num in [num[0] for num in guardsShift]:\n",
    "    if(num == guardId):\n",
    "        for l in range(guardsShift[i][2],guardsShift[i][3]):\n",
    "            tmp.append(l)\n",
    "    i = i + 1\n",
    "result = guardId * np.bincount(tmp).argmax()\n",
    "print(\"The id of the guard multiplied by the minute to choose is {}\".format(result))"
   ]
  },
  {
   "cell_type": "code",
   "execution_count": null,
   "metadata": {},
   "outputs": [],
   "source": []
  }
 ],
 "metadata": {
  "kernelspec": {
   "display_name": "Python 3",
   "language": "python",
   "name": "python3"
  },
  "language_info": {
   "codemirror_mode": {
    "name": "ipython",
    "version": 3
   },
   "file_extension": ".py",
   "mimetype": "text/x-python",
   "name": "python",
   "nbconvert_exporter": "python",
   "pygments_lexer": "ipython3",
   "version": "3.6.7"
  }
 },
 "nbformat": 4,
 "nbformat_minor": 2
}
