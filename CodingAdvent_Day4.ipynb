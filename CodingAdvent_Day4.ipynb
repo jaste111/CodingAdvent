{
 "cells": [
  {
   "cell_type": "markdown",
   "metadata": {},
   "source": [
    "Coding Advent"
   ]
  },
  {
   "cell_type": "code",
   "execution_count": 94,
   "metadata": {},
   "outputs": [
    {
     "name": "stdout",
     "output_type": "stream",
     "text": [
      "[[10, 0], [99, 0]]\n"
     ]
    }
   ],
   "source": [
    "#Day 4 Part 1\n",
    "def readInput(filename):\n",
    "    f = open(filename, 'r')\n",
    "    Input = []\n",
    "    for line in f:\n",
    "        Input.append(line)\n",
    "    f.close\n",
    "    return Input\n",
    "\n",
    "Input = readInput('testInput.txt')\n",
    "\n",
    "#sort input\n",
    "def sortFunc(e):\n",
    "    tmp = (e.split(\"]\"))[0].split(\"[\")\n",
    "    return tmp[1]\n",
    "\n",
    "sortFunc(Input[0])\n",
    "Input.sort(key=sortFunc)\n",
    "\n",
    "#Find guard most asleep\n",
    "guards = []\n",
    "minutesAsleep = 0\n",
    "\n",
    "def guardID(a):\n",
    "     return int((a.split(\" \"))[3].split(\"#\")[1])\n",
    "\n",
    "for s in Input:\n",
    "    if(s.split(\" \")[2] == \"Guard\"):\n",
    "        Id = guardID(s)\n",
    "        fallsAsleep = s.split(\" \")[2]\n",
    "        if(Id not in ([num[0] for num in guards])):\n",
    "            guards.append([Id,0])\n",
    "        \n",
    "        \n",
    "\n",
    "print(guards)"
   ]
  },
  {
   "cell_type": "code",
   "execution_count": null,
   "metadata": {},
   "outputs": [],
   "source": []
  }
 ],
 "metadata": {
  "kernelspec": {
   "display_name": "Python 3",
   "language": "python",
   "name": "python3"
  },
  "language_info": {
   "codemirror_mode": {
    "name": "ipython",
    "version": 3
   },
   "file_extension": ".py",
   "mimetype": "text/x-python",
   "name": "python",
   "nbconvert_exporter": "python",
   "pygments_lexer": "ipython3",
   "version": "3.6.7"
  }
 },
 "nbformat": 4,
 "nbformat_minor": 2
}
