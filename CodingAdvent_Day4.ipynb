{
 "cells": [
  {
   "cell_type": "markdown",
   "metadata": {},
   "source": [
    "Coding Advent"
   ]
  },
  {
   "cell_type": "code",
   "execution_count": 102,
   "metadata": {},
   "outputs": [
    {
     "name": "stdout",
     "output_type": "stream",
     "text": [
      "[[10, 20, 5, 25], [10, 25, 30, 55], [99, 10, 40, 50], [10, 5, 24, 29], [99, 10, 36, 46], [99, 10, 45, 55]]\n",
      "10 range(20, 5)\n",
      "10 range(25, 30)\n",
      "25\n",
      "26\n",
      "27\n",
      "28\n",
      "29\n",
      "10 range(5, 24)\n",
      "5\n",
      "6\n",
      "7\n",
      "8\n",
      "9\n",
      "10\n",
      "11\n",
      "12\n",
      "13\n",
      "14\n",
      "15\n",
      "16\n",
      "17\n",
      "18\n",
      "19\n",
      "20\n",
      "21\n",
      "22\n",
      "23\n",
      "[25, 26, 27, 28, 29, 5, 6, 7, 8, 9, 10, 11, 12, 13, 14, 15, 16, 17, 18, 19, 20, 21, 22, 23]\n"
     ]
    }
   ],
   "source": [
    "#Day 4 Part 1\n",
    "from operator import itemgetter\n",
    "import numpy as np\n",
    "def readInput(filename):\n",
    "    f = open(filename, 'r')\n",
    "    Input = []\n",
    "    for line in f:\n",
    "        Input.append(line)\n",
    "    f.close\n",
    "    return Input\n",
    "\n",
    "Input = readInput('testInput.txt')\n",
    "\n",
    "#sort input\n",
    "def sortFunc(e):\n",
    "    tmp = (e.split(\"]\"))[0].split(\"[\")\n",
    "    return tmp[1]\n",
    "\n",
    "sortFunc(Input[0])\n",
    "Input.sort(key=sortFunc)\n",
    "#Input = sorted(Input)\n",
    "\n",
    "#Find guard most asleep\n",
    "guardsShift = []\n",
    "guards = []\n",
    "sleep = 0\n",
    "awake = 0\n",
    "\n",
    "for s in Input:\n",
    "    if(s.split(\" \")[2] == \"Guard\"):\n",
    "        Id = int((s.split(\" \"))[3].split(\"#\")[1])\n",
    "        fallsAsleep = s.split(\" \")[2]\n",
    "        \n",
    "    if(s.split(\" \")[2] == \"falls\"):\n",
    "        sleep = int(s.split(\" \")[1].split(\":\")[1].split(\"]\")[0])\n",
    "    \n",
    "    if(s.split(\" \")[2] == \"wakes\"):\n",
    "        awake = int(s.split(\" \")[1].split(\":\")[1].split(\"]\")[0])\n",
    "        guardsShift.append([Id, awake - sleep, sleep, awake])\n",
    "\n",
    "\n",
    "guardIds = list(set([num[0] for num in guardsShift]))\n",
    "for i in guardIds:\n",
    "    guards.append([i,sum(([item[1] for item in guardsShift if item[0] == i]))])\n",
    "\n",
    "guardId = max(guards,key=itemgetter(1))[0]\n",
    "#print(guardId)\n",
    "print(guardsShift)\n",
    "#Find time guard most likely asleep\n",
    "timesAsleep = []\n",
    "i = 0\n",
    "tmp = []\n",
    "for num in [num[0] for num in guardsShift]:\n",
    "    if(num == guardId):\n",
    "        #for j in range(guardsShift[i][1],guardsShift[i][2]):\n",
    "        print(num,range(guardsShift[i][1],guardsShift[i][2]))  \n",
    "        for l in range(guardsShift[i][1],guardsShift[i][2]):\n",
    "            print(l)\n",
    "            tmp.append(l)\n",
    "        \n",
    "        #print(guardsShift[i])\n",
    "    i = i + 1\n",
    "print(tmp)\n",
    "#result = guardId * np.bincount(tmp).argmax()\n",
    "#print(np.bincount(tmp).argmax())\n",
    "#print(\"The id of the guard multiplied by the minute to choose is {}\".format(result))"
   ]
  },
  {
   "cell_type": "code",
   "execution_count": null,
   "metadata": {},
   "outputs": [],
   "source": []
  }
 ],
 "metadata": {
  "kernelspec": {
   "display_name": "Python 3",
   "language": "python",
   "name": "python3"
  },
  "language_info": {
   "codemirror_mode": {
    "name": "ipython",
    "version": 3
   },
   "file_extension": ".py",
   "mimetype": "text/x-python",
   "name": "python",
   "nbconvert_exporter": "python",
   "pygments_lexer": "ipython3",
   "version": "3.6.7"
  }
 },
 "nbformat": 4,
 "nbformat_minor": 2
}
