{
 "cells": [
  {
   "cell_type": "markdown",
   "metadata": {},
   "source": [
    "Coding Advent"
   ]
  },
  {
   "cell_type": "code",
   "execution_count": 123,
   "metadata": {},
   "outputs": [
    {
     "name": "stdout",
     "output_type": "stream",
     "text": [
      "10\n",
      "[[10, 20, 5, 25], [10, 25, 30, 55], [99, 10, 40, 50], [10, 5, 24, 29], [99, 10, 36, 46], [99, 10, 45, 55]]\n",
      "range(5, 24)\n"
     ]
    }
   ],
   "source": [
    "#Day 4 Part 1\n",
    "from operator import itemgetter\n",
    "\n",
    "def readInput(filename):\n",
    "    f = open(filename, 'r')\n",
    "    Input = []\n",
    "    for line in f:\n",
    "        Input.append(line)\n",
    "    f.close\n",
    "    return Input\n",
    "\n",
    "Input = readInput('testInput.txt')\n",
    "\n",
    "#sort input\n",
    "def sortFunc(e):\n",
    "    tmp = (e.split(\"]\"))[0].split(\"[\")\n",
    "    return tmp[1]\n",
    "\n",
    "sortFunc(Input[0])\n",
    "Input.sort(key=sortFunc)\n",
    "\n",
    "#Find guard most asleep\n",
    "guardsShift = []\n",
    "guards = []\n",
    "sleep = 0\n",
    "awake = 0\n",
    "\n",
    "for s in Input:\n",
    "    if(s.split(\" \")[2] == \"Guard\"):\n",
    "        Id = int((s.split(\" \"))[3].split(\"#\")[1])\n",
    "        fallsAsleep = s.split(\" \")[2]\n",
    "        \n",
    "    if(s.split(\" \")[2] == \"falls\"):\n",
    "        sleep = int(s.split(\" \")[1].split(\":\")[1].split(\"]\")[0])\n",
    "    \n",
    "    if(s.split(\" \")[2] == \"wakes\"):\n",
    "        awake = int(s.split(\" \")[1].split(\":\")[1].split(\"]\")[0])\n",
    "        guardsShift.append([Id, awake - sleep, sleep, awake])\n",
    "\n",
    "\n",
    "guardIds = list(set([num[0] for num in guardsShift]))\n",
    "for i in guardIds:\n",
    "    guards.append([i,sum(([item[1] for item in guardsShift if item[0] == i]))])\n",
    "\n",
    "guardId = max(guards,key=itemgetter(1))[0]\n",
    "print(guardId)\n",
    "\n",
    "#Find time guard most likely asleep\n",
    "timesAsleep = []\n",
    "i = 0\n",
    "print(guardsShift)\n",
    "for num in [num[0] for num in guardsShift]:\n",
    "    if(num == guardId):\n",
    "        tmp = range(guardsShift[i][1],guardsShift[i][2])\n",
    "    i = i + 1\n",
    "print(tmp)"
   ]
  },
  {
   "cell_type": "code",
   "execution_count": null,
   "metadata": {},
   "outputs": [],
   "source": []
  }
 ],
 "metadata": {
  "kernelspec": {
   "display_name": "Python 3",
   "language": "python",
   "name": "python3"
  },
  "language_info": {
   "codemirror_mode": {
    "name": "ipython",
    "version": 3
   },
   "file_extension": ".py",
   "mimetype": "text/x-python",
   "name": "python",
   "nbconvert_exporter": "python",
   "pygments_lexer": "ipython3",
   "version": "3.6.7"
  }
 },
 "nbformat": 4,
 "nbformat_minor": 2
}
