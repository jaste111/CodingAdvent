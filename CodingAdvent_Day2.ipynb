{
 "cells": [
  {
   "cell_type": "markdown",
   "metadata": {},
   "source": [
    "Coding Advent Day 2"
   ]
  },
  {
   "cell_type": "code",
   "execution_count": 14,
   "metadata": {},
   "outputs": [
    {
     "name": "stdout",
     "output_type": "stream",
     "text": [
      "Checksumm: 7688\n"
     ]
    }
   ],
   "source": [
    "#Day 2 Part 1\n",
    "def readInput(filename):\n",
    "    f = open(filename, 'r')\n",
    "    Input = []\n",
    "    for line in f:\n",
    "        Input.append(line)\n",
    "    f.close\n",
    "    return Input\n",
    "\n",
    "Input = readInput('input_Day2.txt')\n",
    "\n",
    "TwoLetters = 0\n",
    "ThreeLetters = 0\n",
    "\n",
    "for word in Input:\n",
    "    \n",
    "    for letter in word:\n",
    "        tmp = word.count(letter)\n",
    "        if(tmp == 2):\n",
    "            TwoLetters = TwoLetters + 1\n",
    "            break\n",
    "    \n",
    "    for letter in word:\n",
    "        tmp = word.count(letter)\n",
    "        if(tmp == 3):\n",
    "            ThreeLetters = ThreeLetters + 1\n",
    "            break\n",
    "\n",
    "checksum = TwoLetters * ThreeLetters\n",
    "print(\"Checksumm: {}\".format(checksum))"
   ]
  },
  {
   "cell_type": "code",
   "execution_count": 26,
   "metadata": {},
   "outputs": [
    {
     "name": "stdout",
     "output_type": "stream",
     "text": [
      "The correct box is: lsrivmotzbdxpkxnaqmuwcgchj\n",
      "\n"
     ]
    }
   ],
   "source": [
    "#Day 2 Part 2\n",
    "count = 0\n",
    "for word1 in Input:    \n",
    "    for word2 in Input:\n",
    "        \n",
    "        for i in range(len(word2) - 1):\n",
    "            if(word1[i] != word2[i]):\n",
    "                count = count + 1\n",
    "                \n",
    "        if(count == 1):\n",
    "            print(\"The correct box is: {}\".format(word1))\n",
    "            break\n",
    "        else:\n",
    "            count = 0\n",
    "    if(count == 1):\n",
    "        break"
   ]
  },
  {
   "cell_type": "code",
   "execution_count": null,
   "metadata": {},
   "outputs": [],
   "source": []
  }
 ],
 "metadata": {
  "kernelspec": {
   "display_name": "Python 3",
   "language": "python",
   "name": "python3"
  },
  "language_info": {
   "codemirror_mode": {
    "name": "ipython",
    "version": 3
   },
   "file_extension": ".py",
   "mimetype": "text/x-python",
   "name": "python",
   "nbconvert_exporter": "python",
   "pygments_lexer": "ipython3",
   "version": "3.6.7"
  }
 },
 "nbformat": 4,
 "nbformat_minor": 2
}
